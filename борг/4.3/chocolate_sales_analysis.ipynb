{
 "cells": [
  {
   "cell_type": "markdown",
   "metadata": {},
   "source": [
    "# Аналіз даних про продажі шоколаду\n",
    "\n",
    "У цьому ноутбуці ми проведемо аналіз даних про продажі шоколаду, побудуємо моделі регресії та оцінимо їх ефективність."
   ]
  },
  {
   "cell_type": "markdown",
   "metadata": {},
   "source": [
    "## 1. Завантаження даних"
   ]
  },
  {
   "cell_type": "code",
   "execution_count": null,
   "metadata": {},
   "source": [
    "# Встановлення необхідних бібліотек\n",
    "!pip install kagglehub pandas scikit-learn matplotlib seaborn"
   ]
  },
  {
   "cell_type": "code",
   "execution_count": null,
   "metadata": {},
   "source": [
    "# Завантаження даних з Kaggle\n",
    "import kagglehub\n",
    "\n",
    "# Завантаження набору даних\n",
    "path = kagglehub.dataset_download(\"atharvasoundankar/chocolate-sales\")\n",
    "\n",
    "print(\"Шлях до файлів набору даних:\", path)"
   ]
  },
  {
   "cell_type": "code",
   "execution_count": null,
   "metadata": {},
   "source": [
    "import pandas as pd\n",
    "import os\n",
    "\n",
    "# Перегляд файлів у завантаженому наборі даних\n",
    "files = os.listdir(path)\n",
    "print(\"Файли в наборі даних:\", files)\n",
    "\n",
    "# Завантаження даних (припускаємо, що файл CSV знаходиться в завантаженій директорії)\n",
    "# Змінимо шлях до файлу після перегляду доступних файлів\n",
    "data_file = os.path.join(path, files[0])  # Беремо перший файл для прикладу\n",
    "data = pd.read_csv(data_file)\n",
    "\n",
    "# Перегляд перших рядків даних\n",
    "data.head()"
   ]
  },
  {
   "cell_type": "markdown",
   "metadata": {},
   "source": [
    "## 2. Дослідження та попередня обробка даних"
   ]
  },
  {
   "cell_type": "code",
   "execution_count": null,
   "metadata": {},
   "source": [
    "# Базова інформація про набір даних\n",
    "print(\"Розмір набору даних:\", data.shape)\n",
    "print(\"\\nІнформація про набір даних:\")\n",
    "data.info()\n",
    "\n",
    "# Статистичний опис числових даних\n",
    "print(\"\\nСтатистичний опис числових даних:\")\n",
    "data.describe()"
   ]
  },
  {
   "cell_type": "code",
   "execution_count": null,
   "metadata": {},
   "source": [
    "# Перевірка наявності пропущених значень\n",
    "missing_values = data.isnull().sum()\n",
    "print(\"Пропущені значення:\")\n",
    "print(missing_values[missing_values > 0] if any(missing_values > 0) else \"Пропущених значень немає\")"
   ]
  },
  {
   "cell_type": "code",
   "execution_count": null,
   "metadata": {},
   "source": [
    "# Заповнення пропущених значень (якщо вони є)\n",
    "for column in data.columns:\n",
    "    if data[column].isnull().sum() > 0:\n",
    "        if data[column].dtype == \"object\":\n",
    "            # Для категоріальних даних заповнюємо модою\n",
    "            data[column].fillna(data[column].mode()[0], inplace=True)\n",
    "        else:\n",
    "            # Для числових даних заповнюємо середнім значенням\n",
    "            data[column].fillna(data[column].mean(), inplace=True)\n",
    "\n",
    "# Перевірка, чи всі пропущені значення заповнені\n",
    "print(\"Пропущені значення після заповнення:\", data.isnull().sum().sum())"
   ]
  },
  {
   "cell_type": "code",
   "execution_count": null,
   "metadata": {},
   "source": [
    "# Перетворення категоріальних змінних (якщо вони є)\n",
    "categorical_columns = data.select_dtypes(include=['object']).columns.tolist()\n",
    "print(\"Категоріальні змінні:\", categorical_columns)\n",
    "\n",
    "if categorical_columns:\n",
    "    # Використання one-hot encoding для категоріальних змінних\n",
    "    data_encoded = pd.get_dummies(data, columns=categorical_columns, drop_first=True)\n",
    "    print(\"Форма даних після кодування категоріальних змінних:\", data_encoded.shape)\n",
    "else:\n",
    "    data_encoded = data.copy()\n",
    "    print(\"Категоріальних змінних не знайдено, кодування не потрібне.\")"
   ]
  },
  {
   "cell_type": "markdown",
   "metadata": {},
   "source": [
    "## 3. Аналіз кореляцій"
   ]
  },
  {
   "cell_type": "code",
   "execution_count": null,
   "metadata": {},
   "source": [
    "import matplotlib.pyplot as plt\n",
    "import seaborn as sns\n",
    "\n",
    "# Обчислення кореляцій між числовими змінними\n",
    "numeric_data = data_encoded.select_dtypes(include=['number'])\n",
    "correlation = numeric_data.corr()\n",
    "\n",
    "# Визначення цільової змінної (припускаємо, що це продажі)\n",
    "# Спробуємо знайти колонку, яка може бути цільовою змінною (продажі)\n",
    "sales_columns = [col for col in numeric_data.columns if 'sale' in col.lower() or 'revenue' in col.lower() or 'amount' in col.lower()]\n",
    "\n",
    "if sales_columns:\n",
    "    target_column = sales_columns[0]  # Беремо першу знайдену колонку продажів\n",
    "    print(f\"Визначена цільова змінна: {target_column}\")\n",
    "    \n",
    "    # Топ-10 змінних з найвищою кореляцією з цільовою змінною\n",
    "    top_correlations = correlation[target_column].sort_values(ascending=False)\n",
    "    print(\"\\nТоп-10 змінних з найвищою кореляцією з цільовою змінною:\")\n",
    "    print(top_correlations.head(10))\n",
    "else:\n",
    "    print(\"Не вдалося автоматично визначити цільову змінну. Будь ласка, виберіть цільову змінну вручну.\")\n",
    "    # Виведемо всі числові колонки для вибору\n",
    "    print(\"Доступні числові колонки:\", numeric_data.columns.tolist())\n",
    "    # Для прикладу візьмемо першу числову колонку як цільову\n",
    "    target_column = numeric_data.columns[0]\n",
    "    print(f\"Для прикладу використовуємо {target_column} як цільову змінну\")\n",
    "    \n",
    "    # Топ-10 змінних з найвищою кореляцією з цільовою змінною\n",
    "    top_correlations = correlation[target_column].sort_values(ascending=False)\n",
    "    print(\"\\nТоп-10 змінних з найвищою кореляцією з цільовою змінною:\")\n",
    "    print(top_correlations.head(10))"
   ]
  },
  {
   "cell_type": "code",
   "execution_count": null,
   "metadata": {},
   "source": [
    "# Візуалізація кореляційної матриці\n",
    "plt.figure(figsize=(12, 10))\n",
    "sns.heatmap(correlation, annot=True, cmap='coolwarm', fmt=\".2f\", linewidths=0.5)\n",
    "plt.title('Кореляційна матриця')\n",
    "plt.tight_layout()\n",
    "plt.show()"
   ]
  },
  {
   "cell_type": "markdown",
   "metadata": {},
   "source": [
    "## 4. Підготовка даних для моделювання"
   ]
  },
  {
   "cell_type": "code",
   "execution_count": null,
   "metadata": {},
   "source": [
    "from sklearn.model_selection import train_test_split\n",
    "\n",
    "# Вибір залежної змінної та характеристик\n",
    "X = numeric_data.drop(target_column, axis=1)  # Видаляємо цільову змінну з характеристик\n",
    "y = numeric_data[target_column]\n",
    "\n",
    "print(f\"Форма X: {X.shape}\")\n",
    "print(f\"Форма y: {y.shape}\")\n",
    "\n",
    "# Розподіл на тренувальний і тестовий набори\n",
    "X_train, X_test, y_train, y_test = train_test_split(X, y, test_size=0.2, random_state=42)\n",
    "\n",
    "print(f\"Розмір тренувального набору: {X_train.shape[0]} зразків\")\n",
    "print(f\"Розмір тестового набору: {X_test.shape[0]} зразків\")"
   ]
  },
  {
   "cell_type": "markdown",
   "metadata": {},
   "source": [
    "## 5. Побудова моделей регресії"
   ]
  },
  {
   "cell_type": "code",
   "execution_count": null,
   "metadata": {},
   "source": [
    "from sklearn.linear_model import LinearRegression\n",
    "\n",
    "# Створення моделі лінійної регресії\n",
    "linear_model = LinearRegression()\n",
    "\n",
    "# Навчання моделі\n",
    "linear_model.fit(X_train, y_train)\n",
    "\n",
    "# Виведення коефіцієнтів моделі\n",
    "coefficients = pd.DataFrame({\n",
    "    'Змінна': X.columns,\n",
    "    'Коефіцієнт': linear_model.coef_\n",
    "})\n",
    "\n",
    "print(\"Коефіцієнти лінійної регресії (топ-10 за абсолютним значенням):\")\n",
    "print(coefficients.reindex(coefficients['Коефіцієнт'].abs().sort_values(ascending=False).index).head(10))"
   ]
  },
  {
   "cell_type": "code",
   "execution_count": null,
   "metadata": {},
   "source": [
    "from sklearn.metrics import r2_score, mean_squared_error, mean_absolute_error\n",
    "import numpy as np\n",
    "\n",
    "# Передбачення на тестовому наборі